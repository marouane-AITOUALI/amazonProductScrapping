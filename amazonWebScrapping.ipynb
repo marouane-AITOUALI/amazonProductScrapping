{
 "cells": [
  {
   "cell_type": "code",
   "execution_count": 52,
   "id": "8d3cd9e3-59d1-4cf0-9ed5-3088d8cbb1cd",
   "metadata": {},
   "outputs": [],
   "source": [
    "# import libraries \n",
    "from bs4 import BeautifulSoup\n",
    "import requests\n",
    "import time\n",
    "import datetime\n",
    "from email.mime.text import MIMEText\n",
    "from email.mime.multipart import MIMEMultipart\n",
    "\n",
    "import smtplib"
   ]
  },
  {
   "cell_type": "code",
   "execution_count": 49,
   "id": "76b8db85-810f-458f-b410-2b4c79074a86",
   "metadata": {},
   "outputs": [],
   "source": [
    "import datetime\n",
    "import csv\n",
    "\n",
    "# Main function you can modify it, to get different data that you need\n",
    "# Here you can set the price that you want to track \n",
    "price = 10\n",
    "def checkData():\n",
    "    # Connect to webSite\n",
    "    URL = \"https://www.amazon.com/Funny-Data-Systems-Business-Analyst/dp/B07FNW9FGJ/ref=sr_1_3?dchild=1&keywords=data%2Banalyst%2Btshirt&qid=1626655184&sr=8-3&customId=B0752XJYNL&th=1\"\n",
    "    # <------ User agent ------>\n",
    "    # You can get yours in this link: https://httpbin.org/get\n",
    "    # Bear in mind, that you have to change only the user agent data in the headers variable\n",
    "    headers = {\"User-Agent\": \"Mozilla/5.0 (Windows NT 10.0; Win64; x64) AppleWebKit/537.36 (KHTML, like Gecko) Chrome/121.0.0.0 Safari/537.36\", \"Accept-Encoding\":\"gzip, deflate\", \"Accept\":\"text/html,application/xhtml+xml,application/xml;q=0.9,*/*;q=0.8\", \"DNT\":\"1\",\"Connection\":\"close\", \"Upgrade-Insecure-Requests\":\"1\"}\n",
    "    \n",
    "    page = requests.get(URL, headers=headers)\n",
    "    \n",
    "    # Get the page html\n",
    "    soup1 = BeautifulSoup(page.content, \"html.parser\")\n",
    "    \n",
    "    # Prettify the html page\n",
    "    soup2 = BeautifulSoup(soup1.prettify(), \"html.parser\")\n",
    "\n",
    "    title = soup2.find(id=\"productTitle\").get_text()\n",
    "    title = title.strip()\n",
    "\n",
    "    # Price: get the price if you want i didn't get it here \n",
    "    # so you can check if its below a certain price, you get a notification\n",
    "\n",
    "    \n",
    "    \n",
    "    today = datetime.date.today()\n",
    "    \n",
    "    header = [\"Title\", \"Date\"]\n",
    "    data = [title, today]\n",
    "\n",
    "    with open('amazonScrapping.csv', 'a+', newline=\"\", encoding=\"UTF8\") as f:\n",
    "        writer = csv.writer(f)\n",
    "        writer.writerow(data)\n",
    "\n",
    "    if (price <= 10):\n",
    "        # Please check this function to modify your email and password\n",
    "        # You might have to use an application password you can find it on your gmail setting \n",
    "        # Or your real password in case you didn't activate the double factor authentification \n",
    "        envoyer_email()\n",
    "    "
   ]
  },
  {
   "cell_type": "code",
   "execution_count": null,
   "id": "48e98d18-e6d0-40a0-b43c-a8eed75e6ce7",
   "metadata": {},
   "outputs": [],
   "source": [
    "# Here you launch the code to update data \n",
    "\n",
    "while(True):\n",
    "    checkData()\n",
    "    # Every day you can get the price of the product and update it every day\n",
    "    time.sleep(86400)"
   ]
  },
  {
   "cell_type": "code",
   "execution_count": null,
   "id": "57a92852-909b-4c21-879a-7f68d3cdc68e",
   "metadata": {},
   "outputs": [],
   "source": [
    "# See the data in the csv file\n",
    "\n",
    "import pandas as pd\n",
    "\n",
    "df = pd.read_csv(\"amazonScrapping.csv\")\n",
    "print(df)"
   ]
  },
  {
   "cell_type": "code",
   "execution_count": 59,
   "id": "22a35425-40bf-4b4b-8f42-0b29b4ec715c",
   "metadata": {},
   "outputs": [],
   "source": [
    "import smtplib\n",
    "from email.mime.text import MIMEText\n",
    "from email.mime.multipart import MIMEMultipart\n",
    "\n",
    "# If uou want to try sending yourself an email (just for fun) when a price hits below a certain level you can try it\n",
    "# out with this script\n",
    "mail = \"yourEmail@gmail.com\"\n",
    "\n",
    "sujet = f\"The Shirt you want is below ${price}! Now is your chance to buy!\"\n",
    "\n",
    "corps = \"Hi, This is the moment we have been waiting for. Now is your chance to pick up the shirt of your dreams. Don't mess it up! Link here: https://www.amazon.com/Funny-Data-Systems-Business-Analyst/dp/B07FNW9FGJ/ref=sr_1_3?dchild=1&keywords=data+analyst+tshirt&qid=1626655184&sr=8-3\"\n",
    "def envoyer_email(destinataire=mail, sujet=sujet, corps=corps):\n",
    "    # Paramètres du serveur SMTP\n",
    "    smtp_server = 'smtp.gmail.com'\n",
    "    smtp_port = 587\n",
    "    # hna dir adresse mail dialk\n",
    "    smtp_username = mail\n",
    "    # Changer mdp dir mdp d'applications\n",
    "    # N.B: N'utilisez pas mdp de votre mail si vous avez activé la validation en 2 étapes\n",
    "    # Vous devez créer un mdp d'applications dans sécurité de votre compte google\n",
    "    # Sinon Utilisez votre mdp\n",
    "    smtp_password = '********'\n",
    "\n",
    "    # Créer le message\n",
    "    message = MIMEMultipart()\n",
    "    message['From'] = smtp_username\n",
    "    message['To'] = destinataire\n",
    "    message['Subject'] = sujet\n",
    "\n",
    "    # Ajouter le corps du message\n",
    "    message.attach(MIMEText(corps, 'plain'))\n",
    "\n",
    "    # Établir la connexion avec le serveur SMTP\n",
    "    server = smtplib.SMTP(smtp_server, smtp_port)\n",
    "    server.starttls()\n",
    "    server.login(smtp_username, smtp_password)\n",
    "\n",
    "    # Envoyer l'e-mail\n",
    "    server.sendmail(smtp_username, destinataire, message.as_string())\n",
    "\n",
    "    # Fermer la connexion\n",
    "    server.quit()\n"
   ]
  },
  {
   "cell_type": "code",
   "execution_count": 60,
   "id": "faf7d9c8-1bb3-4317-ba3c-e020ab0e778c",
   "metadata": {},
   "outputs": [],
   "source": [
    "envoyer_email()"
   ]
  },
  {
   "cell_type": "code",
   "execution_count": null,
   "id": "81f428f2-5e9b-450b-b091-2b7062446eec",
   "metadata": {},
   "outputs": [],
   "source": []
  }
 ],
 "metadata": {
  "kernelspec": {
   "display_name": "Python 3 (ipykernel)",
   "language": "python",
   "name": "python3"
  },
  "language_info": {
   "codemirror_mode": {
    "name": "ipython",
    "version": 3
   },
   "file_extension": ".py",
   "mimetype": "text/x-python",
   "name": "python",
   "nbconvert_exporter": "python",
   "pygments_lexer": "ipython3",
   "version": "3.12.1"
  }
 },
 "nbformat": 4,
 "nbformat_minor": 5
}
